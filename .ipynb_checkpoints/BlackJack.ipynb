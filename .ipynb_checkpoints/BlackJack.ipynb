{
 "cells": [
  {
   "cell_type": "code",
   "execution_count": 1,
   "id": "67b58808",
   "metadata": {},
   "outputs": [],
   "source": [
    "# Clean up the comments within this program\n",
    "# Use comments to explain the why's and how's of your code.\n",
    "# Avoid using comments to explain what your program does.\n",
    "import random\n",
    "from IPython.display import clear_output\n",
    "\n",
    "suits = ('Hearts', 'Diamonds', 'Spades', 'Clubs')\n",
    "ranks = ('Two', 'Three', 'Four', 'Five', 'Six', 'Seven', 'Eight', 'Nine', 'Ten', 'Jack', 'Queen', 'King', 'Ace')\n",
    "values = {'Two':2, 'Three':3, 'Four':4, 'Five':5, 'Six':6, 'Seven':7, 'Eight':8, \n",
    "            'Nine':9, 'Ten':10, 'Jack':10, 'Queen':10, 'King':10, 'Ace':11}\n",
    "\n",
    "playing = True"
   ]
  },
  {
   "cell_type": "code",
   "execution_count": 2,
   "id": "a6f936fb",
   "metadata": {},
   "outputs": [],
   "source": [
    "class Card:\n",
    "    def __init__(self,suit,rank):\n",
    "        self.suit = suit\n",
    "        self.rank = rank\n",
    "    def __str__(self):\n",
    "        return self.rank + \" of \" + self.suit"
   ]
  },
  {
   "cell_type": "code",
   "execution_count": 3,
   "id": "145479bf",
   "metadata": {},
   "outputs": [],
   "source": [
    "class Deck:\n",
    "    #initialize a list to hold a deck of cards\n",
    "    def __init__(self):\n",
    "        self.cards = []\n",
    "        for suit in suits:\n",
    "            for rank in ranks:\n",
    "                self.cards.append(Card(suit,rank))\n",
    "    def shuffle(self):\n",
    "        random.shuffle(self.cards)\n",
    "    def deal_one(self):\n",
    "        return self.cards.pop()"
   ]
  },
  {
   "cell_type": "code",
   "execution_count": 4,
   "id": "e3abb6f1",
   "metadata": {},
   "outputs": [],
   "source": [
    "class Hand:\n",
    "    def __init__(self):\n",
    "        #create an empty list for holding cards\n",
    "        self.cards = []\n",
    "        self.value = 0\n",
    "        self.aces = 0\n",
    "    #method to display the cards being played\n",
    "    def __str__(self):\n",
    "        show_cards = ''\n",
    "        for card in self.cards:\n",
    "            show_cards += card.__str__() + \", \"\n",
    "        return show_cards[:-2]\n",
    "            \n",
    "    def add_card(self,card):\n",
    "        self.cards.append(card)\n",
    "        self.value += values[card.rank]\n",
    "        if card.rank == \"Ace\":\n",
    "            self.aces += 1\n",
    "    #adjust for aces\n",
    "    def adjust_ace(self):\n",
    "        if self.aces > 1 and self.value > 21:\n",
    "            self.value -= 10\n",
    "            self.aces -= 1"
   ]
  },
  {
   "cell_type": "code",
   "execution_count": 5,
   "id": "059f8927",
   "metadata": {},
   "outputs": [],
   "source": [
    "#chip class to keep track of player's chips\n",
    "class Chip():\n",
    "    def __init__(self):\n",
    "        self.total = 100\n",
    "        self.bet = 0\n",
    "    def lose_bet(self):\n",
    "        self.total -= self.bet\n",
    "        print(f\"\\n-{self.bet} chips\")\n",
    "        self.bet = 0\n",
    "    def win_bet(self):\n",
    "        self.total += self.bet\n",
    "        print(f\"\\n+{self.bet} chips\")\n",
    "        self.bet = 0"
   ]
  },
  {
   "cell_type": "code",
   "execution_count": 6,
   "id": "b4d815ea",
   "metadata": {},
   "outputs": [],
   "source": [
    "def hit(hand,deck):\n",
    "    card = deck.deal_one()\n",
    "    hand.add_card(card)"
   ]
  },
  {
   "cell_type": "code",
   "execution_count": 7,
   "id": "ec727ec1",
   "metadata": {},
   "outputs": [],
   "source": [
    "def hit_or_stand(hand,deck):\n",
    "    global playing\n",
    "    response = 'wrong'\n",
    "    \n",
    "    while hand.value < 21 and playing:\n",
    "        response = input(\"Player, hit or stand. 'h','s': \")[0].lower()\n",
    "        if response == 'h':\n",
    "            hit(hand,deck)\n",
    "            print(f\"Player's hand: {hand}, ({hand.value})\\n\")\n",
    "        elif response == 's':\n",
    "            break\n",
    "        pass"
   ]
  },
  {
   "cell_type": "code",
   "execution_count": 8,
   "id": "20833188",
   "metadata": {},
   "outputs": [],
   "source": [
    "def take_bet(chips):\n",
    "    bet = 0\n",
    "    while playing and int(bet) > chips.total or int(bet) <= 0:\n",
    "        bet = input(\"Player, how many chips do you want to bet?: \")\n",
    "        if bet.isdigit() != True:\n",
    "            bet = 0\n",
    "            continue\n",
    "    chips.bet = int(bet)"
   ]
  },
  {
   "cell_type": "code",
   "execution_count": 9,
   "id": "10b8b3bb",
   "metadata": {},
   "outputs": [],
   "source": [
    "#define winning conditions\n",
    "def dealer_wins(chips):\n",
    "    print(\"Dealer wins!\")\n",
    "    chips.lose_bet()\n",
    "    \n",
    "def dealer_busts(chips):\n",
    "    print(\"Dealer busted. Player wins!\")\n",
    "    chips.win_bet()\n",
    "\n",
    "def player_wins(chips):\n",
    "    print(\"Player beats dealer!\")\n",
    "    chips.win_bet()\n",
    "\n",
    "def player_busts(chips):\n",
    "    print(\"Player busted! Dealer wins!\")\n",
    "    chips.lose_bet()\n",
    "\n",
    "def push(chips):\n",
    "    chips.bet = 0\n",
    "    print(\"It's a draw!\")\n",
    "    print(\"+0 chips\")\n",
    "    pass"
   ]
  },
  {
   "cell_type": "code",
   "execution_count": 10,
   "id": "9fff0a41",
   "metadata": {},
   "outputs": [],
   "source": [
    "#hide the dealer's first card and show the rest\n",
    "def display_some(player,dealer):\n",
    "    dealer_some = dealer.__str__()\n",
    "    print(f\"\\nPlayer's cards: {player} ({player.value})\")\n",
    "    print(f\"\\nDealer's cards: ?{dealer_some[dealer_some.index(', '):]}\\n\")\n",
    "    \n",
    "#show all cards being played\n",
    "def display_all(player,dealer):\n",
    "    print(f\"Player's cards: {player} ({player.value})\")\n",
    "    print(f\"Dealer's cards: {dealer} ({dealer.value})\\n\")"
   ]
  },
  {
   "cell_type": "code",
   "execution_count": 11,
   "id": "12b4e918",
   "metadata": {
    "scrolled": true
   },
   "outputs": [
    {
     "name": "stdout",
     "output_type": "stream",
     "text": [
      "Dealer busted. Player wins!\n",
      "\n",
      "+30 chips\n",
      "Player's chips: 90\n",
      "Do you want to play again? Y/N: n\n",
      "Thanks for playing!\n"
     ]
    }
   ],
   "source": [
    "#welcome the player\n",
    "print(\"Welcome to Blackjack!\")\n",
    "#initialize the player's chips\n",
    "chips = Chip()\n",
    "\n",
    "#putting the pieces together\n",
    "while True:\n",
    "    #create a deck and give 2 cards to each player/dealer.\n",
    "    deck = Deck()\n",
    "    deck.shuffle()\n",
    "    \n",
    "    player = Hand()\n",
    "    dealer = Hand()\n",
    "    \n",
    "    for n in range(2):\n",
    "        player.add_card(deck.deal_one())\n",
    "        dealer.add_card(deck.deal_one())\n",
    "    \n",
    "    #keep track of the player's chips\n",
    "    print(f\"Player has {chips.total} chips.\")\n",
    "    \n",
    "    #prompt the player for their bet\n",
    "    take_bet(chips)\n",
    "    \n",
    "    #display cards, but hide the dealer's first card\n",
    "    display_some(player,dealer)\n",
    "    \n",
    "    while playing:\n",
    "        #prompt the player to hit or stand\n",
    "        hit_or_stand(player,deck)\n",
    "        pass\n",
    "        \n",
    "        #dealer hits if value < 17\n",
    "        while dealer.value < 17:\n",
    "            hit(dealer,deck)\n",
    "        \n",
    "        if player.value > 21:\n",
    "            player_busts(chips)\n",
    "            break\n",
    "        \n",
    "        #clear the screen\n",
    "        clear_output()\n",
    "        \n",
    "        #dealer busts\n",
    "        if dealer.value > 21:\n",
    "            dealer_busts(chips)\n",
    "            break\n",
    "            \n",
    "        #display all cards\n",
    "        display_all(player,dealer)\n",
    "        \n",
    "        #dealer wins\n",
    "        if dealer.value > player.value:\n",
    "            dealer_wins(chips)\n",
    "        #player wins\n",
    "        elif player.value > dealer.value:\n",
    "            player_wins(chips)\n",
    "        #tie game\n",
    "        else:\n",
    "            push(chips)\n",
    "        \n",
    "        break\n",
    "        \n",
    "        \n",
    "    #display the player's chips\n",
    "    print(f\"Player's chips: {chips.total}\")\n",
    "        \n",
    "    #ask to play again\n",
    "    replay = False\n",
    "    \n",
    "    while replay not in ['y','n']:\n",
    "        replay = input(\"Do you want to play again? Y/N: \")[0].lower()\n",
    "    if replay == 'y':\n",
    "        playing = True\n",
    "        clear_output()\n",
    "    else:\n",
    "        break\n",
    "    clear_output()\n",
    "print(\"Thanks for playing!\")"
   ]
  },
  {
   "cell_type": "code",
   "execution_count": null,
   "id": "ce00bbd1",
   "metadata": {},
   "outputs": [],
   "source": []
  }
 ],
 "metadata": {
  "kernelspec": {
   "display_name": "Python 3",
   "language": "python",
   "name": "python3"
  },
  "language_info": {
   "codemirror_mode": {
    "name": "ipython",
    "version": 3
   },
   "file_extension": ".py",
   "mimetype": "text/x-python",
   "name": "python",
   "nbconvert_exporter": "python",
   "pygments_lexer": "ipython3",
   "version": "3.11.1"
  },
  "vscode": {
   "interpreter": {
    "hash": "b4db55a6c4cfdf421347213d5fb5601aa82859160e9edaa32abfc7346e9e446a"
   }
  }
 },
 "nbformat": 4,
 "nbformat_minor": 5
}
